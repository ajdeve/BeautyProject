{
 "cells": [
  {
   "cell_type": "code",
   "execution_count": 1,
   "id": "7c636831-b37f-40b5-954a-f8d8e6623a4f",
   "metadata": {},
   "outputs": [],
   "source": [
    "import pandas as pd, json, pymysql, re, ast\n",
    "import plotly.express as px\n",
    "import plotly.io as pio\n",
    "from plotly.subplots import make_subplots\n",
    "import plotly.graph_objects as go\n",
    "\n",
    "\n",
    "pio.renderers.default = 'iframe'"
   ]
  },
  {
   "cell_type": "code",
   "execution_count": 2,
   "id": "69de97ff-318a-4c3a-94a7-4ed155325535",
   "metadata": {},
   "outputs": [],
   "source": [
    "# Create a function for easily querying data.\n",
    "def qry(sql):\n",
    "\n",
    "    # Open database connection\n",
    "    connection = pymysql.connect(host=\"34.133.40.159\",user=\"root\",password=\"rootroot\",database=\"project\" )\n",
    "    df = pd.read_sql(sql, connection)\n",
    "\n",
    "    # disconnect from server\n",
    "    connection.close()\n",
    "    \n",
    "    # return data.\n",
    "    return df"
   ]
  },
  {
   "cell_type": "markdown",
   "id": "5dae018f-117d-4808-8004-ad1d402f97ee",
   "metadata": {},
   "source": [
    "#### Create visualization for a brand's (BENEFIT cosmetics) customer's statistics per metric (eye color, skin tone, and age)"
   ]
  },
  {
   "cell_type": "code",
   "execution_count": 3,
   "id": "47bea5ce-3fe2-48ec-8fb9-4c708545c165",
   "metadata": {},
   "outputs": [],
   "source": [
    "def getMetric(metric):\n",
    "    c = {}\n",
    "    df = qry(\"\"\"\n",
    "        SELECT p.name, r.context_data_values FROM brands b, products p, reviews r\n",
    "        WHERE b.brand_index = p.brand AND p.product_id = r.product_id\n",
    "        AND b.brand_name LIKE 'benefit%'\"\"\")\n",
    "    for k, v in df.iterrows():\n",
    "        value = ast.literal_eval(v['context_data_values'])\n",
    "        if metric in value.keys():\n",
    "            response = value[metric]['Value']\n",
    "            if response in c.keys():\n",
    "                c[response] += 1\n",
    "            else:\n",
    "                c[response] = 1\n",
    "    result=pd.DataFrame(c, index=['count']).T.reset_index()\n",
    "    return (px.bar(result.sort_values('index'), x = 'count', y ='index', color=result['index'].to_list(),\n",
    "                  text='count', title = f\"BENEFIT customer {metric}\"), result)\n",
    "\n"
   ]
  },
  {
   "cell_type": "code",
   "execution_count": 116,
   "id": "db3d3c42-3e66-4af2-8080-0b7845dab47e",
   "metadata": {},
   "outputs": [
    {
     "data": {
      "text/html": [
       "<iframe\n",
       "    scrolling=\"no\"\n",
       "    width=\"100%\"\n",
       "    height=\"545px\"\n",
       "    src=\"iframe_figures/figure_7.html\"\n",
       "    frameborder=\"0\"\n",
       "    allowfullscreen\n",
       "></iframe>\n"
      ]
     },
     "metadata": {},
     "output_type": "display_data"
    }
   ],
   "source": [
    "fig = make_subplots(rows=1, cols=3, \n",
    "                    subplot_titles=(\"BENEFIT customer ages\", \"BENEFIT customer skin tones\", \"BENEFIT customer eye colors\")\n",
    "                    )\n",
    "df = getMetric('age')[1].sort_values('index')\n",
    "fig.add_trace(\n",
    "    go.Bar(x=df['index'], y=df['count'], name='count'),\n",
    "    row=1, col=1\n",
    ")\n",
    "df = getMetric('skinTone')[1].sort_values('index')\n",
    "fig.add_trace(\n",
    "    go.Bar(x=df['index'], y=df['count'], name='count'),\n",
    "    row=1, col=2\n",
    ")\n",
    "df = getMetric('eyeColor')[1].sort_values('index')\n",
    "fig.add_trace(\n",
    "    go.Bar(x=df['index'], y=df['count'], name='count'),\n",
    "    row=1, col=3\n",
    ")\n",
    "fig.update_layout(title_text = \"BENEFIT's Customerbase Demographic and Attribute Distribution\", showlegend=False)\n",
    "\n",
    "fig.show()"
   ]
  },
  {
   "cell_type": "markdown",
   "id": "3410b8b1-a1a4-471a-9dc8-32440930212d",
   "metadata": {},
   "source": [
    "#### Create visualization for a moving and cumulative average time series for a specific product"
   ]
  },
  {
   "cell_type": "code",
   "execution_count": 121,
   "id": "a5940557-e01a-4bfc-81a1-3f00066d1dd3",
   "metadata": {},
   "outputs": [],
   "source": [
    "pid = 'P429903' #P7109\n",
    "df = qry(f\"\"\"SELECT r.*, p.name, b.brand_name\n",
    "FROM reviews r, products p, brands b\n",
    "WHERE r.product_id = p.product_id AND b.brand_index = p.brand\n",
    "AND p.product_id = '{pid}' \"\"\")"
   ]
  },
  {
   "cell_type": "code",
   "execution_count": 122,
   "id": "af647f1b-0258-4c38-aaaa-71881e11a107",
   "metadata": {},
   "outputs": [],
   "source": [
    "df['submission_time'] = pd.to_datetime(df['submission_time'])\n",
    "df = df.sort_values('submission_time')"
   ]
  },
  {
   "cell_type": "code",
   "execution_count": 129,
   "id": "891d23e2-9d65-42a3-9ffc-5f150b3b97cc",
   "metadata": {
    "tags": []
   },
   "outputs": [
    {
     "data": {
      "text/html": [
       "<iframe\n",
       "    scrolling=\"no\"\n",
       "    width=\"100%\"\n",
       "    height=\"545px\"\n",
       "    src=\"iframe_figures/figure_7.html\"\n",
       "    frameborder=\"0\"\n",
       "    allowfullscreen\n",
       "></iframe>\n"
      ]
     },
     "metadata": {},
     "output_type": "display_data"
    }
   ],
   "source": [
    "name = df['name'][0]\n",
    "brand = df['brand_name'][0]\n",
    "period = 14\n",
    "df[ 'rolling_avg' ] = df['rating'].rolling(period).mean()\n",
    "fig = go.Figure([go.Scatter(x=df['submission_time'], y=df['rolling_avg'])])\n",
    "fig.update_layout(title = f'{period}-day Moving Average Rating for:<br><b>{brand}</b>\\'s \"{name}\"')"
   ]
  },
  {
   "cell_type": "code",
   "execution_count": 132,
   "id": "2281b35e-42af-424d-947c-c8b5a820e20e",
   "metadata": {},
   "outputs": [
    {
     "data": {
      "text/html": [
       "<iframe\n",
       "    scrolling=\"no\"\n",
       "    width=\"100%\"\n",
       "    height=\"545px\"\n",
       "    src=\"iframe_figures/figure_7.html\"\n",
       "    frameborder=\"0\"\n",
       "    allowfullscreen\n",
       "></iframe>\n"
      ]
     },
     "metadata": {},
     "output_type": "display_data"
    }
   ],
   "source": [
    "df[ 'cum_avg' ] = df['rating'].expanding(period).mean()\n",
    "fig = go.Figure([go.Scatter(x=df['submission_time'], y=df['cum_avg'])])\n",
    "fig.update_layout(title = f'{period}-day Cumulative Average Rating for:<br><b>{brand}</b>\\'s \"{name}\"')"
   ]
  },
  {
   "cell_type": "code",
   "execution_count": 12,
   "id": "822d47ee-4252-4b5d-b7b0-87bc9e04090b",
   "metadata": {},
   "outputs": [],
   "source": [
    "import pymongo\n",
    "from pymongo import MongoClient"
   ]
  },
  {
   "cell_type": "markdown",
   "id": "53cbe449-05c9-41c2-859d-aff7bebcb949",
   "metadata": {},
   "source": [
    "### Applying MongoDB for visualization\n",
    "#### Find the most common use case for a specific product"
   ]
  },
  {
   "cell_type": "code",
   "execution_count": 133,
   "id": "34689b1b-9c64-4415-83ca-60a2b582bcce",
   "metadata": {},
   "outputs": [],
   "source": [
    "client = MongoClient('mongodb://localhost:27017/project')\n",
    "db=client.project"
   ]
  },
  {
   "cell_type": "code",
   "execution_count": 134,
   "id": "624c45f9-e2b6-41d0-a1a4-47b37f6410c1",
   "metadata": {},
   "outputs": [],
   "source": [
    "mongodf = pd.DataFrame(list(db.reviews_mongo.find({ })))"
   ]
  },
  {
   "cell_type": "code",
   "execution_count": 135,
   "id": "3e100728-eefb-448b-8542-8594dcb9fd00",
   "metadata": {},
   "outputs": [],
   "source": [
    "mongodf = mongodf.drop('_id', axis = 1)"
   ]
  },
  {
   "cell_type": "code",
   "execution_count": 136,
   "id": "cceeb2aa-ddb0-4065-be09-be623a856bd9",
   "metadata": {},
   "outputs": [
    {
     "data": {
      "text/html": [
       "<iframe\n",
       "    scrolling=\"no\"\n",
       "    width=\"100%\"\n",
       "    height=\"545px\"\n",
       "    src=\"iframe_figures/figure_7.html\"\n",
       "    frameborder=\"0\"\n",
       "    allowfullscreen\n",
       "></iframe>\n"
      ]
     },
     "metadata": {},
     "output_type": "display_data"
    }
   ],
   "source": [
    "brand = 'philosophy'\n",
    "name = 'Purity Made Simple Cleanser'\n",
    "px.histogram(mongodf.query('product_id == \"P7109\"')['skinConcerns'].dropna().sort_values(ascending=True),\n",
    "       title = f'Main concerns for getting <br><b>{brand}</b>\\'s \"{name}')"
   ]
  },
  {
   "cell_type": "markdown",
   "id": "6f287ca9-7f34-49f2-9dfb-b28dd462e91e",
   "metadata": {},
   "source": [
    "### Connecting MongoDB, pandas and MySQL\n",
    "#### Top products for specific skin type, skin tone and eye color\n",
    "First, get the products with the right user attibute. Using the product id, find the product details on SQL database.\n",
    "Finally, plot a graph showing the products rating and \"love\" statistic"
   ]
  },
  {
   "cell_type": "code",
   "execution_count": 142,
   "id": "1cee3ff1-f266-45aa-aeed-066fafdb4c49",
   "metadata": {},
   "outputs": [],
   "source": [
    "mongodf2 = pd.DataFrame(list(db.reviews_mongo.find({\"$and\" : [{ \"skinType\": \"combination\" }, {\"skinTone\" : \"light\"}, {\"eyeColor\" : \"blue\" }]})))"
   ]
  },
  {
   "cell_type": "code",
   "execution_count": 143,
   "id": "5283b543-0d25-4973-b38d-2488855230b7",
   "metadata": {},
   "outputs": [],
   "source": [
    "plist = mongodf2.groupby('product_id').count()['_id'].sort_values(ascending = False).index.to_list()"
   ]
  },
  {
   "cell_type": "code",
   "execution_count": 152,
   "id": "6c2809bd-bd1d-48c6-a5f1-51d5549cefd5",
   "metadata": {},
   "outputs": [],
   "source": [
    "topdf = qry(f\"\"\"SELECT CONCAT(b.brand_name, \" \", name) as name ,rating, love \n",
    "FROM products p, brands b \n",
    "WHERE b.brand_index = p.brand AND category like \"foundation\" AND product_id IN('{\"', '\".join([str(x) for x in plist])}')\"\"\").head(5)"
   ]
  },
  {
   "cell_type": "code",
   "execution_count": 153,
   "id": "64d7d4d7-a77a-4222-a0e7-7fe8034f1347",
   "metadata": {},
   "outputs": [
    {
     "data": {
      "text/html": [
       "<iframe\n",
       "    scrolling=\"no\"\n",
       "    width=\"100%\"\n",
       "    height=\"545px\"\n",
       "    src=\"iframe_figures/figure_7.html\"\n",
       "    frameborder=\"0\"\n",
       "    allowfullscreen\n",
       "></iframe>\n"
      ]
     },
     "metadata": {},
     "output_type": "display_data"
    }
   ],
   "source": [
    "px.bar(topdf, x = 'love', y='name', text='rating')"
   ]
  },
  {
   "cell_type": "code",
   "execution_count": null,
   "id": "34467ed8-785f-4640-9ea5-248286a1e4bc",
   "metadata": {},
   "outputs": [],
   "source": []
  }
 ],
 "metadata": {
  "kernelspec": {
   "display_name": "Python 3",
   "language": "python",
   "name": "python3"
  },
  "language_info": {
   "codemirror_mode": {
    "name": "ipython",
    "version": 3
   },
   "file_extension": ".py",
   "mimetype": "text/x-python",
   "name": "python",
   "nbconvert_exporter": "python",
   "pygments_lexer": "ipython3",
   "version": "3.8.8"
  }
 },
 "nbformat": 4,
 "nbformat_minor": 5
}
