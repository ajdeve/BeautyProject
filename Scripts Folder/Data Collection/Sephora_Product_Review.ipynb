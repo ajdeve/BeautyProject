{
 "cells": [
  {
   "cell_type": "markdown",
   "id": "957ae47d-14b4-4ac7-b944-c75db5929bc2",
   "metadata": {},
   "source": [
    "This notebook downloads Sephora user product reviews. The original csv being read \"df\" is a listing of Sephora products from downloaded from Kaggle at https://www.kaggle.com/raghadalharbi/all-products-available-on-sephora-website\n",
    "\n",
    "Due to large number of reviews a product can have, each product with more than 150 reviews is limited to 10% of all reviews.\n",
    "\n",
    "2 CSVs are exported. 1) CSV of product review statistics (\"products_df.csv\") and, 2) CSV of individual reviews (\"reviews.csv\")\n",
    "\n",
    "Another CSV is exported for standardizing product ID (\"product_id_correction.csv\")"
   ]
  },
  {
   "cell_type": "code",
   "execution_count": 1,
   "id": "11f66df7-0017-4eec-aac2-0ed764ff0e38",
   "metadata": {},
   "outputs": [],
   "source": [
    "import pandas as pd\n",
    "import requests\n",
    "import json\n",
    "from tqdm.notebook import tqdm"
   ]
  },
  {
   "cell_type": "code",
   "execution_count": 2,
   "id": "07ba6a87-cb59-4df2-b235-4f911a2c1921",
   "metadata": {},
   "outputs": [],
   "source": [
    "pd.options.display.max_columns = 50"
   ]
  },
  {
   "cell_type": "code",
   "execution_count": 3,
   "id": "26b55fc4-7701-4d56-a08e-90e114f03035",
   "metadata": {},
   "outputs": [],
   "source": [
    "df = pd.read_csv('/Users/admin/Downloads/facial_products.csv')"
   ]
  },
  {
   "cell_type": "code",
   "execution_count": 4,
   "id": "9e4ccba2-a536-4d4c-b746-d708a425bbfc",
   "metadata": {},
   "outputs": [],
   "source": [
    "master = pd.DataFrame()"
   ]
  },
  {
   "cell_type": "code",
   "execution_count": 5,
   "id": "9d528e0d-d885-4ca4-ae16-1d0813e7eb0a",
   "metadata": {},
   "outputs": [],
   "source": [
    "review = pd.DataFrame()\n",
    "products_df = pd.DataFrame()"
   ]
  },
  {
   "cell_type": "code",
   "execution_count": 7,
   "id": "2dfe28c1-84ff-4661-8d78-d3905ffdeca0",
   "metadata": {},
   "outputs": [
    {
     "data": {
      "application/vnd.jupyter.widget-view+json": {
       "model_id": "6e77f12fff514082b2d25db8050b8fc1",
       "version_major": 2,
       "version_minor": 0
      },
      "text/plain": [
       "  0%|          | 0/4419 [00:00<?, ?it/s]"
      ]
     },
     "metadata": {},
     "output_type": "display_data"
    }
   ],
   "source": [
    "file = '/Users/admin/Desktop/Uchicago/Data Platform Engineering/Project/reviews2.csv'\n",
    "products = '/Users/admin/Desktop/Uchicago/Data Platform Engineering/Project/products2.csv'\n",
    "calls = 0\n",
    "prod_cols=['Description', 'Id', 'ImageUrl', 'Name', 'ReviewStatistics','TotalReviewCount']\n",
    "review_cols=['UserNickname','Rating','ReviewText','ContextDataValues','ProductId','AuthorId','SubmissionTime','IsRecommended','ContentLocale','Id']\n",
    "downloaded = pd.read_csv(products)['Id'].to_list()\n",
    "for k, v in tqdm(df.iterrows(), total = len(df)):\n",
    "    continue\n",
    "    offset = 0\n",
    "    limit = 50\n",
    "    temp = pd.DataFrame()\n",
    "    pid = v['URL'].split('grid:')[1].upper()\n",
    "    if pid in downloaded:\n",
    "        continue\n",
    "    while True:\n",
    "        url = f'https://api.bazaarvoice.com/data/reviews.json?Filter=contentlocale%3Aen*&Filter=ProductId%3A{pid}&Sort=SubmissionTime%3Adesc&Limit={limit}&Offset={offset}&Include=Products%2CComments&Stats=Reviews&passkey=caQ0pQXZTqFVYA1yYnnJ9emgUiW59DXA85Kxry8Ma02HE&apiversion=5.4&Locale=en_US'\n",
    "        r = requests.get(url,timeout=10)\n",
    "        calls += 1\n",
    "        response = json.loads(r.text)\n",
    "        total = response['TotalResults']\n",
    "        if total == 0:\n",
    "            break\n",
    "\n",
    "        temp = pd.concat([temp, pd.DataFrame(response['Results'])[review_cols]])\n",
    "        offset += limit\n",
    "\n",
    "        c = len(temp)\n",
    "        if c >= total or (c >= 100 and c > int(total * 0.1)):\n",
    "            break\n",
    "    if total == 0:\n",
    "        continue\n",
    "    if len(temp) > 0:\n",
    "        review = pd.concat([review,temp])\n",
    "    \n",
    "    products_df = pd.concat([products_df, pd.DataFrame(response['Includes']['Products']).T.reset_index()])\n",
    "    products_df.reset_index(inplace=True, drop=True)\n",
    "    \n",
    "    if k % 1000 == 0:\n",
    "        products_df[prod_cols].to_csv(products, index=False)\n",
    "        review.to_csv(file, index=False)\n",
    "\n",
    "products_df[prod_cols].to_csv(products, index=False)\n",
    "review.to_csv(file, index=False)        \n",
    "        "
   ]
  },
  {
   "cell_type": "code",
   "execution_count": 349,
   "id": "44e5aed2-0c04-4524-ad73-b13638b022d7",
   "metadata": {},
   "outputs": [],
   "source": [
    "df['pid'] = df['URL'].str.split('grid:').str[1].str.upper()"
   ]
  },
  {
   "cell_type": "code",
   "execution_count": 352,
   "id": "007c966f-f511-41e6-87dc-7c3612df06c0",
   "metadata": {},
   "outputs": [],
   "source": [
    "df[['id', 'pid']].to_csv('product_id_correction.csv', index = False)"
   ]
  },
  {
   "cell_type": "code",
   "execution_count": null,
   "id": "03640c10-9799-48c9-aab3-aab8f849da07",
   "metadata": {},
   "outputs": [],
   "source": []
  }
 ],
 "metadata": {
  "kernelspec": {
   "display_name": "Python 3",
   "language": "python",
   "name": "python3"
  },
  "language_info": {
   "codemirror_mode": {
    "name": "ipython",
    "version": 3
   },
   "file_extension": ".py",
   "mimetype": "text/x-python",
   "name": "python",
   "nbconvert_exporter": "python",
   "pygments_lexer": "ipython3",
   "version": "3.8.8"
  }
 },
 "nbformat": 4,
 "nbformat_minor": 5
}
